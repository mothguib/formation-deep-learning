{
 "cells": [
  {
   "cell_type": "markdown",
   "metadata": {},
   "source": [
    "## Introduction librairies sklearn, pandas"
   ]
  },
  {
   "cell_type": "markdown",
   "metadata": {},
   "source": [
    "* Pandas : manipuler des fichiers csv (tableaux excel), faire des statistiques descriptives (moyenne variance, mediane,histogramme)\n",
    "* Sklearn : bibliothèque orientée machine learning. Simplifie les tâches récurrentes, telles que séparer les données, créer un modèle, entraîner un modèle.\n",
    "\n",
    "*Pandas* permet de manipuler des fichiers CSV sous Python de manière simple. Les fichiers csv sont représentés par un \"DataFrame\". C'est un\n",
    "objet python sur lesquels on peut effectuer les opérations les plus courantes (calculer la moyenne d'une colonne, etc.)"
   ]
  },
  {
   "cell_type": "markdown",
   "metadata": {},
   "source": [
    "## Partie 1"
   ]
  },
  {
   "cell_type": "markdown",
   "metadata": {},
   "source": [
    "### Importer les données\n",
    "\n",
    "Afficher les colonnes :"
   ]
  },
  {
   "cell_type": "code",
   "execution_count": 5,
   "metadata": {},
   "outputs": [],
   "source": [
    "import pandas\n",
    "import matplotlib.pyplot as plt"
   ]
  },
  {
   "cell_type": "code",
   "execution_count": 6,
   "metadata": {},
   "outputs": [],
   "source": [
    "# A COMPLETER\n",
    "\n",
    "# Importer les données contenues dans le fichier housing.csv dans un DataFrame pandas\n",
    "\n",
    "# Afficher le nom des colonnes\n"
   ]
  },
  {
   "cell_type": "markdown",
   "metadata": {},
   "source": [
    "Le data frame a 506 lignes and 14 colonnes:\n",
    "\n",
    "* `crim`: taux de criminalité par ville\n",
    "* `zn`: proportion de résidences ( lots > 25,000 sq.ft.)\n",
    "* `indus`: proportion de zone industrielle par ville\n",
    "* `chas`: 1 si une rivière passe, 0 sinon\n",
    "* `nox`: nitrogen oxides concentration (pollution).\n",
    "* `rm`: nombre moyen de chambres par habitation\n",
    "* `age`: proportion de maisons occupées construites avant 1940.\n",
    "* `dis`: distance moyenne (pondérée) des 5 centres d'emplois de Boston.\n",
    "* `rad`: indice d'accés au périph (plus grand: accès plus rapide au périph)\n",
    "* `tax`: taxe d'habitation pour $10,000.\n",
    "* `ptratio`: taux de \"pupil-teacher\" par ville (?).\n",
    "* `black`: 1000(Bk - 0.63)^2 ou Bk est la proportion d'afro-américain par ville (base de donnée US)\n",
    "* `lstat`: pourcentage de personnes en dessous du seuil de pauvreté (lower status).\n",
    "* `medv`: median house value"
   ]
  },
  {
   "cell_type": "markdown",
   "metadata": {},
   "source": [
    "### Outils de visualisation"
   ]
  },
  {
   "cell_type": "markdown",
   "metadata": {},
   "source": [
    "#### Aperçu des données"
   ]
  },
  {
   "cell_type": "code",
   "execution_count": 7,
   "metadata": {},
   "outputs": [],
   "source": [
    "# A COMPLETER\n",
    "\n",
    "# Afficher les 5 premières lignes du jeu de données"
   ]
  },
  {
   "cell_type": "markdown",
   "metadata": {},
   "source": [
    "### Visualisation des données : statistiques descriptives\n",
    "\n",
    "Avec *Pandas* et l'objet *DataFrame*, il est facile de visualiser la distribution des variables présentes dans notre jeu de donnée"
   ]
  },
  {
   "cell_type": "code",
   "execution_count": 8,
   "metadata": {},
   "outputs": [],
   "source": [
    "# A COMPLETER\n",
    "\n",
    "# Afficher un histogramme pour chaque feature"
   ]
  },
  {
   "cell_type": "markdown",
   "metadata": {},
   "source": [
    "#### Sélectionner une colonne"
   ]
  },
  {
   "cell_type": "code",
   "execution_count": 9,
   "metadata": {},
   "outputs": [
    {
     "name": "stdout",
     "output_type": "stream",
     "text": [
      "None\n"
     ]
    }
   ],
   "source": [
    "# A COMPLETER\n",
    "\n",
    "# Mettre la colonne age dans la variable age\n",
    "age = None\n",
    "print(age)"
   ]
  },
  {
   "cell_type": "markdown",
   "metadata": {},
   "source": [
    "#### Statistiques sur la colonne \"age\""
   ]
  },
  {
   "cell_type": "code",
   "execution_count": 39,
   "metadata": {},
   "outputs": [
    {
     "data": {
      "text/plain": [
       "(100.0, 2.9, 77.5)"
      ]
     },
     "execution_count": 39,
     "metadata": {},
     "output_type": "execute_result"
    }
   ],
   "source": [
    "# A COMPLETER\n",
    "\n",
    "# Corriger le code ci-dessous\n",
    "max_age=None\n",
    "min_age=None\n",
    "median_age=None\n",
    "print(max_age,min_age,median_age)"
   ]
  },
  {
   "cell_type": "markdown",
   "metadata": {},
   "source": [
    "#### Visualiser l'impact d'une variable sur une autre\n",
    "\n",
    "Représenter le « scatter plot » de `crim` contre `medv`"
   ]
  },
  {
   "cell_type": "code",
   "execution_count": 10,
   "metadata": {},
   "outputs": [],
   "source": [
    "# A COMPLETER\n",
    "\n",
    "# Faire le scatter plot de crim contre medv"
   ]
  },
  {
   "cell_type": "markdown",
   "metadata": {},
   "source": [
    "A faire : essayer de trouver d'autres variables importantes qui pourraient expliquer medv"
   ]
  },
  {
   "cell_type": "markdown",
   "metadata": {},
   "source": [
    "## Partie 2\n",
    "\n",
    "### Séparer sous la forme (X,Y)"
   ]
  },
  {
   "cell_type": "code",
   "execution_count": null,
   "metadata": {},
   "outputs": [],
   "source": [
    "y=df[\"medv\"] # la variable a prédire\n",
    "del df[\"medv\"] # enlever la variable à prédire des prédicteurs\n",
    "x=df\n",
    "print(\"la taille de mon jeu de donnée est {}. Je cherche à expliquer le prix de vente d'une maison à partir de {} variables\".format(x.shape[0],x.shape[1]))"
   ]
  },
  {
   "cell_type": "code",
   "execution_count": 42,
   "metadata": {},
   "outputs": [],
   "source": [
    "x=x.fillna(-1) # valeurs manquantes\n",
    "y=y.fillna(-1) # valeurs manquantes"
   ]
  },
  {
   "cell_type": "markdown",
   "metadata": {},
   "source": [
    "### Création du jeu d'entrainement et du jeu de test\n",
    "\n",
    "Nous devons maintenant découper notre jeu d'entrainement. Pour cela, j'utilise la fonction train_test_split fournie par sklearn. Le paramètre test_size me\n",
    "permet de choisir la proportion de mon jeu de test. En règle général, cette valeur est comprise entre 0.2 et 0.3."
   ]
  },
  {
   "cell_type": "code",
   "execution_count": 43,
   "metadata": {},
   "outputs": [],
   "source": [
    "from sklearn.model_selection import train_test_split\n",
    "\n",
    "# A COMPLETER\n",
    "X_train,X_test,Y_train,Y_test = (None, None, None, None)"
   ]
  },
  {
   "cell_type": "markdown",
   "metadata": {},
   "source": [
    "### Création d'un modèle (regréssion lineaire)\n",
    "\n",
    "Nous allons maintenant essayer d'expliquer la variable `y` (le prix de la maison) en fonction des variables `x`. Le modèle est de la forme:\n",
    "\n",
    "$y=A∗x+b$\n",
    "\n",
    "$Prix = β_{CRIM} ∗ X_{CRIM} + β_{ZN} ∗ X_{ZN} + β_{INDUS} ∗ X_{INDUS} + . . .$\n",
    "\n",
    "Où les coefficients du vecteur `A` seront ceux qui « expliquent » le mieux les données. Par exemple, on pourrait faire l'hypothèse que la variable \"CRIM\" (taux de criminalité de la zone) a un impact négatif sur le prix des maisons. On peut prévoir un coefficient négatif devant cette variable."
   ]
  },
  {
   "cell_type": "code",
   "execution_count": 44,
   "metadata": {},
   "outputs": [
    {
     "data": {
      "text/plain": [
       "LinearRegression()"
      ]
     },
     "execution_count": 44,
     "metadata": {},
     "output_type": "execute_result"
    }
   ],
   "source": [
    "from sklearn.linear_model import LinearRegression\n",
    "\n",
    "# A COMPLETER\n",
    "\n",
    "# Créer un modèle et l'entraîner\n",
    "model=None\n"
   ]
  },
  {
   "cell_type": "code",
   "execution_count": 45,
   "metadata": {},
   "outputs": [
    {
     "data": {
      "text/plain": [
       "Index(['crim', 'zn', 'indus', 'chas', 'nox', 'rm', 'age', 'dis', 'rad', 'tax',\n",
       "       'ptratio', 'black', 'lstat'],\n",
       "      dtype='object')"
      ]
     },
     "execution_count": 45,
     "metadata": {},
     "output_type": "execute_result"
    }
   ],
   "source": [
    "df.columns"
   ]
  },
  {
   "cell_type": "code",
   "execution_count": 46,
   "metadata": {},
   "outputs": [
    {
     "data": {
      "text/plain": [
       "array([-1.04102711e-01,  4.90626794e-02,  6.21512695e-02,  2.86810117e+00,\n",
       "       -1.93873145e+01,  3.79077674e+00, -5.84954108e-03, -1.51717242e+00,\n",
       "        2.91559657e-01, -1.38268303e-02, -9.23391716e-01,  7.66881413e-03,\n",
       "       -4.89825047e-01])"
      ]
     },
     "execution_count": 46,
     "metadata": {},
     "output_type": "execute_result"
    }
   ],
   "source": [
    "model.coef_"
   ]
  },
  {
   "cell_type": "markdown",
   "metadata": {},
   "source": [
    "Interpréter la valeur de ces coefficients. Sont-ils crédibles ?"
   ]
  },
  {
   "cell_type": "code",
   "execution_count": 48,
   "metadata": {},
   "outputs": [
    {
     "name": "stdout",
     "output_type": "stream",
     "text": [
      "Le coefficient de crim est -0.10410271073090434\n",
      "Le coefficient de zn est 0.049062679430175275\n",
      "Le coefficient de indus est 0.062151269527917476\n",
      "Le coefficient de chas est 2.8681011679899955\n",
      "Le coefficient de nox est -19.387314524408215\n",
      "Le coefficient de rm est 3.7907767364326\n",
      "Le coefficient de age est -0.00584954107719056\n",
      "Le coefficient de dis est -1.5171724184269586\n",
      "Le coefficient de rad est 0.29155965741915785\n",
      "Le coefficient de tax est -0.013826830285153205\n",
      "Le coefficient de ptratio est -0.9233917158112945\n",
      "Le coefficient de black est 0.007668814132971805\n",
      "Le coefficient de lstat est -0.48982504712777936\n"
     ]
    }
   ],
   "source": [
    "for i in range(len(df.columns)):\n",
    "    print(\"Le coefficient de {} est {}\".format(df.columns[i],model.coef_[i]))"
   ]
  },
  {
   "cell_type": "markdown",
   "metadata": {},
   "source": [
    "## Evaluation du modèle\n",
    "\n",
    "Comment savoir si notre modèle est bon ou pas ? Il faut un critère de comparaison. Par exemple l'écart quadratique moyen pour une regression, le taux de bonnes prédictions pour une classification"
   ]
  },
  {
   "cell_type": "code",
   "execution_count": null,
   "metadata": {},
   "outputs": [],
   "source": [
    "from sklearn.metrics import mean_squared_error,mean_absolute_error\n",
    "prediction_train=model.predict(X_train)\n",
    "erreur_train=mean_squared_error(Y_train,prediction_train)\n",
    "print(erreur_train)"
   ]
  },
  {
   "cell_type": "markdown",
   "metadata": {},
   "source": [
    "Et sur le jeu d'entrainement ?"
   ]
  },
  {
   "cell_type": "code",
   "execution_count": null,
   "metadata": {},
   "outputs": [],
   "source": [
    "prediction_test=model.predict(X_test)\n",
    "erreur_test=mean_squared_error(Y_test,prediction_test)\n",
    "print(erreur_test)"
   ]
  },
  {
   "cell_type": "markdown",
   "metadata": {},
   "source": [
    "L'objectif est le suivant : avoir la plus petite erreur possible sur le jeu d'entrainement."
   ]
  },
  {
   "cell_type": "markdown",
   "metadata": {},
   "source": [
    "#### Interpréter l'erreur\n",
    "\n",
    "cette erreur est elle acceptable ? Notre modèle est il bon ? Nous avons ici considéré l'erreur moyenne au carré, peut être qu'il faut scorer le modèle avec une erreur plus compréhensible."
   ]
  },
  {
   "cell_type": "code",
   "execution_count": null,
   "metadata": {},
   "outputs": [],
   "source": [
    "erreur_train=mean_absolute_error(Y_test,prediction_test)\n",
    "print(erreur_train)"
   ]
  },
  {
   "cell_type": "markdown",
   "metadata": {},
   "source": [
    "La contrainte est la suivante : avoir une erreur similaire sur le jeu de test (contrôle d'overfitting)"
   ]
  },
  {
   "cell_type": "markdown",
   "metadata": {},
   "source": [
    "### Visualisation des résultats"
   ]
  },
  {
   "cell_type": "code",
   "execution_count": null,
   "metadata": {},
   "outputs": [],
   "source": [
    "import matplotlib.pyplot as plt\n",
    "errors=Y_test-prediction_test"
   ]
  },
  {
   "cell_type": "code",
   "execution_count": null,
   "metadata": {},
   "outputs": [],
   "source": [
    "plt.figure()\n",
    "plt.hist(errors, bins=50)\n",
    "plt.show()"
   ]
  },
  {
   "cell_type": "markdown",
   "metadata": {},
   "source": [
    "* Comment calculer le biais ?\n",
    "* Analyser l'histogramme des erreurs"
   ]
  },
  {
   "cell_type": "code",
   "execution_count": null,
   "metadata": {},
   "outputs": [],
   "source": [
    "# A COMPLETER\n",
    "\n",
    "# Calculer le biais "
   ]
  }
 ],
 "metadata": {
  "kernelspec": {
   "display_name": "ml-env",
   "language": "python",
   "name": "ml-env"
  },
  "language_info": {
   "codemirror_mode": {
    "name": "ipython",
    "version": 3
   },
   "file_extension": ".py",
   "mimetype": "text/x-python",
   "name": "python",
   "nbconvert_exporter": "python",
   "pygments_lexer": "ipython3",
   "version": "3.9.4"
  },
  "toc": {
   "base_numbering": 1,
   "nav_menu": {},
   "number_sections": true,
   "sideBar": true,
   "skip_h1_title": false,
   "title_cell": "Table of Contents",
   "title_sidebar": "Contents",
   "toc_cell": false,
   "toc_position": {},
   "toc_section_display": true,
   "toc_window_display": false
  }
 },
 "nbformat": 4,
 "nbformat_minor": 4
}
